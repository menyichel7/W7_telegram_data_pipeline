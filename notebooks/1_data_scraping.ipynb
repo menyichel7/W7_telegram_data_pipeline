{
 "cells": [
  {
   "cell_type": "code",
   "execution_count": null,
   "id": "58f3ba3b",
   "metadata": {},
   "outputs": [
    {
     "name": "stdout",
     "output_type": "stream",
     "text": [
      "Please enter your phone (or bot token): "
     ]
    }
   ],
   "source": [
    "from telethon import TelegramClient\n",
    "import json\n",
    "import os\n",
    "from dotenv import load_dotenv\n",
    "import logging\n",
    "import asyncio\n",
    "\n",
    "# Load environment variables\n",
    "load_dotenv()\n",
    "\n",
    "# Setup logging\n",
    "logging.basicConfig(filename='scraping.log', level=logging.INFO)\n",
    "\n",
    "# Initialize Telegram client\n",
    "api_id = os.getenv('API_ID')\n",
    "api_hash = os.getenv('API_HASH')\n",
    "client = TelegramClient('session_name', api_id, api_hash)\n",
    "\n",
    "async def scrape_channel(channel):\n",
    "    try:\n",
    "        logging.info(f'Starting to scrape channel: {channel}')\n",
    "        async for message in client.iter_messages(channel):\n",
    "            if message.text:\n",
    "                data = {\n",
    "                    'id': message.id,\n",
    "                    'text': message.text,\n",
    "                    'date': message.date.isoformat(),\n",
    "                    'media': message.media.url if message.media else None\n",
    "                }\n",
    "                date_folder = message.date.strftime('%Y-%m-%d')\n",
    "                os.makedirs(f'../data/raw/telegram_messages/{date_folder}', exist_ok=True)\n",
    "\n",
    "                file_path = f'../data/raw/telegram_messages/{date_folder}/{channel}.json'\n",
    "                with open(file_path, 'a') as f:\n",
    "                    json.dump(data, f)\n",
    "                    f.write('\\n')\n",
    "                    logging.info(f'Scraped message {data[\"id\"]} from {channel}')\n",
    "            else:\n",
    "                logging.info(f'Skipped message {message.id} (no text) from {channel}')\n",
    "    except Exception as e:\n",
    "        logging.error(f'Error scraping {channel}: {e}')\n",
    "\n",
    "async def main():\n",
    "    await client.start()  # Start the client\n",
    "    channels = ['lobelia4cosmetics', 'tikvahpharma']\n",
    "    for channel in channels:\n",
    "        await scrape_channel(channel)\n",
    "\n",
    "# Run the main function\n",
    "if __name__ == \"__main__\":\n",
    "    if not asyncio.get_event_loop().is_running():\n",
    "        asyncio.run(main())\n",
    "    else:\n",
    "        asyncio.ensure_future(main())"
   ]
  }
 ],
 "metadata": {
  "kernelspec": {
   "display_name": "env",
   "language": "python",
   "name": "python3"
  },
  "language_info": {
   "codemirror_mode": {
    "name": "ipython",
    "version": 3
   },
   "file_extension": ".py",
   "mimetype": "text/x-python",
   "name": "python",
   "nbconvert_exporter": "python",
   "pygments_lexer": "ipython3",
   "version": "3.11.2"
  }
 },
 "nbformat": 4,
 "nbformat_minor": 5
}
